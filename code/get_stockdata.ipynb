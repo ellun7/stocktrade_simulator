{
 "cells": [
  {
   "cell_type": "code",
   "execution_count": 2,
   "metadata": {},
   "outputs": [
    {
     "name": "stdout",
     "output_type": "stream",
     "text": [
      "aaa\n"
     ]
    }
   ],
   "source": [
    "#종목 리스트 생성 준비\n",
    "\n",
    "from stsimulator import get_stockdata\n",
    "\n",
    "import datetime\n",
    "import os\n",
    "import pandas as pd\n",
    "\n",
    "parent_path = os.path.abspath(os.path.join(os.getcwd(), os.pardir))\n",
    "\n",
    "path_data = parent_path + '/data/'\n",
    "\n",
    "datetime_now = datetime.datetime.now().strftime('%Y%m%d')\n",
    "column_stockitem = ['code', 'name', 'section', 'sectionKind']\n"
   ]
  },
  {
   "cell_type": "code",
   "execution_count": null,
   "metadata": {},
   "outputs": [],
   "source": [
    "# 1. 전 종목 리스트 저장하기(파일 최초 생성 시)\n",
    "# 관리자 모드로 실행\n",
    "\n",
    "stockitems = get_stockdata.get_stockitem()\n",
    "stockitems.to_csv(path_data + 'stockitems(' + datetime_now + ').csv', index=False,\n",
    "                  encoding='cp949')  # 윈도우의 경우 encoding='cp949' 추가\n"
   ]
  },
  {
   "cell_type": "code",
   "execution_count": null,
   "metadata": {},
   "outputs": [],
   "source": [
    "# 2. 전 종목 리스트 업데이트\n",
    "# 관리자 모드로 실행\n",
    "\n",
    "stockitems_prev = pd.read_csv(path_data + 'stockitems.csv', encoding='cp949')\n",
    "\n",
    "stockitems = get_stockdata.get_stockitem()\n",
    "stockitems = pd.DataFrame(data=stockitems, columns=column_stockitem)\n",
    "stockitems = get_stockdata.update_data(stockitems_prev, stockitems)\n",
    "stockitems.to_csv(path_data + 'stockitems(' + datetime_now + ').csv', index=False, encoding='cp949')\n"
   ]
  },
  {
   "cell_type": "code",
   "execution_count": 4,
   "metadata": {},
   "outputs": [
    {
     "name": "stdout",
     "output_type": "stream",
     "text": [
      "A000020 동화약품 남은 요청 :  60\n",
      "A000040 KR모터스 남은 요청 :  59\n",
      "A000050 경방 남은 요청 :  58\n",
      "A000060 메리츠화재 남은 요청 :  57\n",
      "A000070 삼양홀딩스 남은 요청 :  56\n",
      "A000075 삼양홀딩스우 남은 요청 :  55\n",
      "A000080 하이트진로 남은 요청 :  54\n",
      "A000087 하이트진로2우B 남은 요청 :  53\n",
      "A000100 유한양행 남은 요청 :  52\n",
      "A000105 유한양행우 남은 요청 :  51\n",
      "데이터를 모두 불러왔습니다.\n",
      "임시 데이터를 분할 저장하였습니다.\n"
     ]
    }
   ],
   "source": [
    "# 3. 일일 주가데이터 가져온 후 dat로 분할 저장\n",
    "# 대량(수십만 건 이상) 데이터는 python 32비트 버전에서 pandas로 저장이 안되므로 임시로 dat 파일로 분할해서 저장한 다음,\n",
    "# 64비트 버전으로 환경을 변경하고 4번을 실행\n",
    "stockitems = pd.read_csv(path_data + 'stockitems.csv', encoding='cp949')\n",
    "stockdata = get_stockdata.get_stockdata(stockitems, fromdate='20171221', enddate='20180131')\n",
    "get_stockdata.save_by_split(stockdata)\n"
   ]
  },
  {
   "cell_type": "code",
   "execution_count": 7,
   "metadata": {},
   "outputs": [
    {
     "name": "stdout",
     "output_type": "stream",
     "text": [
      "임시 데이터를 합치기를 완료하였습니다.\n",
      "파일을 저장하였습니다.\n"
     ]
    }
   ],
   "source": [
    "# 4. 분할 저장한 raw 데이터 합쳐서 pandas로 저장\n",
    "\n",
    "column_dailychart = ['code', 'section', 'date', 'open', 'high', 'low', 'close',\n",
    "                     'vol', 'value', 'n_stock', 'agg_price', 'foreign_rate', 'agency_buy']\n",
    "\n",
    "n_file = 1\n",
    "stockdata = get_stockdata.merge_splitedfiles(n_file)\n",
    "stockdata = pd.DataFrame(data=stockdata, columns=column_dailychart)\n",
    "\n",
    "# 업데이트 시에만 적용\n",
    "#stockdata_prev = pd.read_csv(path_data + 'dailychart(20210828).csv')\n",
    "#stockdata = get_stockdata.update_data(stockdata_prev, stockdata)\n",
    "\n",
    "stockdata = stockdata.sort_values(by=['code', 'date'])\n",
    "stockdata.to_csv(path_data + 'dailychart(' + datetime_now + ').csv', index=False,\n",
    "                 encoding='cp949')  # 윈도우의 경우 encoding='cp949' 추가\n",
    "\n",
    "print('파일을 저장하였습니다.')"
   ]
  },
  {
   "cell_type": "code",
   "execution_count": null,
   "metadata": {},
   "outputs": [],
   "source": []
  }
 ],
 "metadata": {
  "kernelspec": {
   "display_name": "Python 3",
   "language": "python",
   "name": "python3"
  },
  "language_info": {
   "codemirror_mode": {
    "name": "ipython",
    "version": 3
   },
   "file_extension": ".py",
   "mimetype": "text/x-python",
   "name": "python",
   "nbconvert_exporter": "python",
   "pygments_lexer": "ipython3",
   "version": "3.8.5"
  }
 },
 "nbformat": 4,
 "nbformat_minor": 4
}

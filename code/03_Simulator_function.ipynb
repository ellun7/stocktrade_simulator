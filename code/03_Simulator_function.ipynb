{
 "cells": [
  {
   "cell_type": "code",
   "execution_count": 1,
   "metadata": {},
   "outputs": [
    {
     "name": "stdout",
     "output_type": "stream",
     "text": [
      "종목 차트정보 가져오는 중...\n",
      "종목정보 가져오는 중...\n",
      "지수정보 가져오는 중...\n",
      "데이터를 불러왔습니다.\n"
     ]
    }
   ],
   "source": [
    "# 데이터 불러오기\n",
    "\n",
    "import pandas as pd\n",
    "import numpy as np\n",
    "import time\n",
    "\n",
    "\n",
    "\n",
    "\n"
   ]
  },
  {
   "cell_type": "code",
   "execution_count": 2,
   "metadata": {},
   "outputs": [
    {
     "name": "stdout",
     "output_type": "stream",
     "text": [
      "투자 시뮬레이션을 시작합니다.\n",
      "time :  2.798060178756714\n",
      "투자 시뮬레이션 데이터 로그를 저장합니다.\n",
      "시뮬레이션 데이터 로그를 저장하였습니다.\n"
     ]
    }
   ],
   "source": [
    "# 벡터연산 기반 시뮬레이션을 시뮬레이터와 투자방법으로 분리시킴\n",
    "\n",
    "\n",
    "column_tradelog = ['code', 'name', 'section', 'idx_buydate', 'buydate','buyprice', 'idx_selldate', 'selldate', 'sellprice', 'period', 'rate','buy_index','sell_index','rate_index']\n",
    "tradelog = pd.DataFrame(columns= column_tradelog)\n",
    "\n",
    "n_test = 100000\n",
    "np.random.seed(0)\n",
    "\n",
    "start = time.time()\n",
    "\n",
    "\n",
    "def Simulate(n_test, seed, ):\n",
    "    print('투자 시뮬레이션을 시작합니다.')\n",
    "\n",
    "    tradelog[['code','name', 'section', 'idx_firstdate']] = stockitems.loc[np.random.randint(0, len(stockitems), size=n_test), ['code', 'name', 'section','idx_firstdate']]\n",
    "\n",
    "    tradelog['idx_buydate'] = tradelog.apply(lambda x: np.random.randint(x['idx_firstdate'], len(df_date)-1) ,axis = 1)\n",
    "    tradelog['buydate'] = df_date.loc[tradelog['idx_buydate'],'date'].to_numpy()\n",
    "    tradelog = pd.merge(tradelog, dailychart[['code','date','low','high']], left_on=['code','buydate'],  right_on=['code','date'], how='left')\n",
    "    tradelog['buyprice'] = np.random.randint(tradelog['low'], tradelog['high']+1)\n",
    "    tradelog = tradelog.drop(columns=['low', 'high'])\n",
    "\n",
    "    tradelog['idx_selldate'] = tradelog['idx_buydate'] + np.random.randint(1, len(df_date) - tradelog['idx_buydate'])\n",
    "    tradelog['selldate'] = df_date.loc[tradelog['idx_selldate'],'date'].to_numpy()\n",
    "    tradelog = pd.merge(tradelog, dailychart[['code','date','low','high']], left_on=['code','selldate'],  right_on=['code','date'], how='left')\n",
    "    tradelog['sellprice'] = np.random.randint(tradelog['low'], tradelog['high']+1)\n",
    "    tradelog = tradelog.drop(columns=['low', 'high'])\n",
    "    tradelog['period'] = tradelog['idx_selldate'] - tradelog['idx_buydate']\n",
    "    tradelog['rate'] = (tradelog['sellprice'] - tradelog['buyprice']) / tradelog['buyprice'] * 100\n",
    "\n",
    "    tradelog['buy_index'] = dailychart_KOSPI.loc[tradelog['idx_buydate'], 'close'].to_numpy()\n",
    "    tradelog['sell_index'] = dailychart_KOSPI.loc[tradelog['idx_selldate'], 'close'].to_numpy()\n",
    "    tradelog_index_KOSDAQ = tradelog.loc[tradelog['section'] == 'KOSDAQ'].index\n",
    "    tradelog.loc[tradelog_index_KOSDAQ, 'buy_index'] = dailychart_KOSDAQ.loc[tradelog.loc[tradelog_index_KOSDAQ,'idx_buydate'], 'close'].to_numpy()\n",
    "    tradelog.loc[tradelog_index_KOSDAQ, 'sell_index'] = dailychart_KOSDAQ.loc[tradelog.loc[tradelog_index_KOSDAQ,'idx_selldate'], 'close'].to_numpy()\n",
    "\n",
    "    tradelog['rate_index'] =  (tradelog['sell_index'] - tradelog['buy_index']) / tradelog['buy_index'] * 100\n",
    "\n",
    "    #불필요한 컬럼 제거\n",
    "    tradelog = tradelog.drop(columns=['date_x','date_y', 'idx_firstdate'])\n",
    "\n",
    "    \n",
    "print('time : ', time.time() - start)\n",
    "print('투자 시뮬레이션 데이터 로그를 저장합니다.')\n",
    "\n",
    "tradelog.to_csv('tradelog3.csv')\n",
    "print('시뮬레이션 데이터 로그를 저장하였습니다.')\n",
    "\n",
    "    "
   ]
  },
  {
   "cell_type": "code",
   "execution_count": 4,
   "metadata": {},
   "outputs": [
    {
     "ename": "SyntaxError",
     "evalue": "invalid syntax (<ipython-input-4-f617cf9f582f>, line 41)",
     "output_type": "error",
     "traceback": [
      "\u001b[1;36m  File \u001b[1;32m\"<ipython-input-4-f617cf9f582f>\"\u001b[1;36m, line \u001b[1;32m41\u001b[0m\n\u001b[1;33m    if dailychart\u001b[0m\n\u001b[1;37m                 ^\u001b[0m\n\u001b[1;31mSyntaxError\u001b[0m\u001b[1;31m:\u001b[0m invalid syntax\n"
     ]
    }
   ],
   "source": [
    "class Simulator:\n",
    "    \n",
    "    def __init__(self):\n",
    "        column_tradelog = ['code', 'name', 'section', 'idx_buydate', 'buydate','buyprice', 'idx_selldate', 'selldate', 'sellprice', 'period', 'rate','buy_index','sell_index','rate_index']\n",
    "        tradelog = pd.DataFrame(columns= column_tradelog)\n",
    "\n",
    "    def initialize_chartdata(self, path_stockitems, path_chart, path_index): #종목 리스트, 종목차트 데이터, 지수차트 데이터 \n",
    "        print('종목 차트정보 가져오는 중...')\n",
    "        self.dailychart = pd.read_csv(path_chart)\n",
    "        self.dailychart['date'] = pd.to_datetime(dailychart['date'], format='%Y%m%d')\n",
    "\n",
    "        print(\"종목정보 가져오는 중...\")\n",
    "        stockitems_original = pd.read_csv('stockItems.csv')   #종목정보 가져오기\n",
    "        stockitems_in_chart = dailychart['code'].unique()\n",
    "        self.stockitems = stockitems_original.loc[stockitems_original['code'].isin(stockitems_in_chart)]\n",
    "\n",
    "        # 날짜 데이터프레임 생성\n",
    "        self.df_date = pd.DataFrame(dailychart['date'].unique(), columns=['date'])\n",
    "        self.min_day = np.min(self.dailychart['date'])\n",
    "        self.max_day = np.max(self.dailychart['date'])\n",
    "\n",
    "        print(\"지수정보 가져오는 중...\")\n",
    "        dailychart_index = pd.read_csv(path_index)   #종목정보 가져오기\n",
    "\n",
    "        dailychart_index['date'] = pd.to_datetime(dailychart_index['date'], format='%Y%m%d')\n",
    "        dailychart_index = dailychart_index.loc[(min_day <= dailychart_index['date']) & ( dailychart_index['date'] <= max_day)].reset_index(drop=True)\n",
    "        self.dailychart_KOSPI = dailychart_index.loc[dailychart_index['section'] == 'KOSPI'].reset_index(drop=True)\n",
    "        self.dailychart_KOSDAQ = dailychart_index.loc[dailychart_index['section'] == 'KOSDAQ'].reset_index(drop=True)\n",
    "\n",
    "        self.df_date['idx'] = self.df_date.index\n",
    "        # 각 종목별 시작일에 날짜 인덱스를 추가\n",
    "        tmp_df = pd.merge(dailychart.groupby('code', as_index=False)['date'].min(), df_date, on='date' )\n",
    "\n",
    "        # 종목 데이터에 종목별 시작일과 시작날짜 인덱스를 조인\n",
    "        self.stockitems = pd.merge(stockitems_original, tmp_df, on='code')\n",
    "        self.stockitems = self.stockitems.rename(columns = {'date':'firstdate', 'idx':'idx_firstdate'})\n",
    "\n",
    "        print('데이터를 불러왔습니다.')     \n",
    "        \n",
    "    def Evaluate():\n",
    "        if dailychart\n",
    "\n",
    "    def ExportTradeLog(self,path):\n",
    "        tradelog.to_csv(path, encoding='utf-8', index=False)\n",
    "\n"
   ]
  },
  {
   "cell_type": "code",
   "execution_count": null,
   "metadata": {},
   "outputs": [],
   "source": []
  }
 ],
 "metadata": {
  "kernelspec": {
   "display_name": "Python 3",
   "language": "python",
   "name": "python3"
  },
  "language_info": {
   "codemirror_mode": {
    "name": "ipython",
    "version": 3
   },
   "file_extension": ".py",
   "mimetype": "text/x-python",
   "name": "python",
   "nbconvert_exporter": "python",
   "pygments_lexer": "ipython3",
   "version": "3.8.5"
  }
 },
 "nbformat": 4,
 "nbformat_minor": 4
}
